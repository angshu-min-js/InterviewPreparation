{
 "cells": [
  {
   "cell_type": "code",
   "execution_count": 4,
   "metadata": {},
   "outputs": [
    {
     "name": "stdout",
     "output_type": "stream",
     "text": [
      "Print Prime numbers upto 10\n",
      "2 3 5 7\n"
     ]
    }
   ],
   "source": [
    "def SieveOfEratosthenes(n):\n",
    "    primes = [True for i in range(n+1)]\n",
    "    p=2\n",
    "    while(p*p<=n):\n",
    "        if primes[p]==True:\n",
    "            for i in range(p*2, n+1, p):\n",
    "                primes[i]=False\n",
    "            p+=1\n",
    "    lis = []\n",
    "    for p in range(2,n):\n",
    "        if primes[p]:\n",
    "            print p,\n",
    "\n",
    "if __name__=='__main__':\n",
    "    print \"Print Prime numbers upto\", 10\n",
    "    SieveOfEratosthenes(10)\n",
    "\n",
    "                "
   ]
  },
  {
   "cell_type": "code",
   "execution_count": null,
   "metadata": {
    "collapsed": true
   },
   "outputs": [],
   "source": []
  },
  {
   "cell_type": "code",
   "execution_count": null,
   "metadata": {
    "collapsed": true
   },
   "outputs": [],
   "source": []
  },
  {
   "cell_type": "code",
   "execution_count": null,
   "metadata": {
    "collapsed": true
   },
   "outputs": [],
   "source": []
  }
 ],
 "metadata": {
  "kernelspec": {
   "display_name": "Python 2",
   "language": "python",
   "name": "python2"
  },
  "language_info": {
   "codemirror_mode": {
    "name": "ipython",
    "version": 2
   },
   "file_extension": ".py",
   "mimetype": "text/x-python",
   "name": "python",
   "nbconvert_exporter": "python",
   "pygments_lexer": "ipython2",
   "version": "2.7.13"
  }
 },
 "nbformat": 4,
 "nbformat_minor": 2
}
