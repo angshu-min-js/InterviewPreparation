{
 "cells": [
  {
   "cell_type": "markdown",
   "metadata": {},
   "source": [
    "## SieveOfEratosthenes"
   ]
  },
  {
   "cell_type": "code",
   "execution_count": 4,
   "metadata": {},
   "outputs": [
    {
     "name": "stdout",
     "output_type": "stream",
     "text": [
      "Print Prime numbers upto 10\n",
      "2 3 5 7\n"
     ]
    }
   ],
   "source": [
    "def SieveOfEratosthenes(n):\n",
    "    primes = [True for i in range(n+1)]\n",
    "    p=2\n",
    "    while(p*p<=n):\n",
    "        if primes[p]==True:\n",
    "            for i in range(p*2, n+1, p):\n",
    "                primes[i]=False\n",
    "            p+=1\n",
    "    lis = []\n",
    "    for p in range(2,n):\n",
    "        if primes[p]:\n",
    "            print p,\n",
    "\n",
    "if __name__=='__main__':\n",
    "    print \"Print Prime numbers upto\", 10\n",
    "    SieveOfEratosthenes(10)\n",
    "\n",
    "                "
   ]
  },
  {
   "cell_type": "markdown",
   "metadata": {
    "collapsed": true
   },
   "source": [
    "## Is Unique"
   ]
  },
  {
   "cell_type": "code",
   "execution_count": 4,
   "metadata": {},
   "outputs": [
    {
     "name": "stdout",
     "output_type": "stream",
     "text": [
      "True\n"
     ]
    }
   ],
   "source": [
    "def isUnique(Str):\n",
    "    if len(Str)>26:\n",
    "        False\n",
    "    storage = []\n",
    "    for i in range(0, 128):\n",
    "        storage.append(0)\n",
    "    for c in Str:\n",
    "        if storage[ord(c)]:\n",
    "            return False\n",
    "        else:\n",
    "            storage[ord(c)]=True\n",
    "    return True\n",
    "\n",
    "print(isUnique(\"ABC\"))\n",
    "            \n",
    "        "
   ]
  },
  {
   "cell_type": "code",
   "execution_count": 10,
   "metadata": {},
   "outputs": [
    {
     "name": "stdout",
     "output_type": "stream",
     "text": [
      "True\n"
     ]
    }
   ],
   "source": [
    "def isUnique(Str):\n",
    "    if len(Str)>26:\n",
    "        False\n",
    "    checker=0\n",
    "    for c in Str:\n",
    "        val = ord(c)\n",
    "        if((checker & (1<<val))>0): \n",
    "            return False;\n",
    "        else:\n",
    "            checker |=(1<<val);\n",
    "    return True\n",
    "\n",
    "print(isUnique(\"ABC\"))"
   ]
  },
  {
   "cell_type": "markdown",
   "metadata": {},
   "source": [
    "## Check Permutation"
   ]
  },
  {
   "cell_type": "code",
   "execution_count": 17,
   "metadata": {},
   "outputs": [
    {
     "name": "stdout",
     "output_type": "stream",
     "text": [
      "True\n"
     ]
    }
   ],
   "source": [
    "def isPermutation(A, B):\n",
    "    if len(A) != len(B): return False\n",
    "    storage = []\n",
    "    for i in range(0, 128):\n",
    "        storage.append(0)\n",
    "    for a in A:\n",
    "        storage[ord(a)]= storage[ord(a)]+1\n",
    "    for b in B:\n",
    "        storage[ord(b)]= storage[ord(b)]-1\n",
    "        if(storage[ord(b)]<0): return False\n",
    "    return True\n",
    "\n",
    "print(isPermutation(\"ABC\", \"BAC\"))"
   ]
  },
  {
   "cell_type": "code",
   "execution_count": 20,
   "metadata": {},
   "outputs": [
    {
     "name": "stdout",
     "output_type": "stream",
     "text": [
      "True\n"
     ]
    }
   ],
   "source": [
    "def isPermutation(A, B):\n",
    "    if sorted(A) == sorted(B):\n",
    "        return True\n",
    "    else:\n",
    "        False\n",
    "print(isPermutation(\"ABC\", \"BAC\"))"
   ]
  },
  {
   "cell_type": "markdown",
   "metadata": {},
   "source": [
    "### URLify"
   ]
  },
  {
   "cell_type": "code",
   "execution_count": 71,
   "metadata": {},
   "outputs": [
    {
     "name": "stdout",
     "output_type": "stream",
     "text": [
      "Input:  Mr John S 13\n",
      "Output:  Mr%20John%20S\n"
     ]
    }
   ],
   "source": [
    "def urlify(A):\n",
    "    space=0\n",
    "    length = len(A)\n",
    "    A=A.strip()\n",
    "    for a in A:\n",
    "        if a == \" \":\n",
    "            space+=1\n",
    "    size = len(A)+space*2\n",
    "    B=[]\n",
    "    for i in range(0, size):\n",
    "        B.append(\" \")\n",
    "    for i in range(len(A)-1, -1, -1):\n",
    "        if A[i]==\" \":\n",
    "            B[size-1] = '0'\n",
    "            B[size-2] = '2'\n",
    "            B[size-3] = '%'\n",
    "            size-=3\n",
    "        else:\n",
    "            A[i]\n",
    "            B[size-1]=A[i]\n",
    "            size-=1\n",
    "    print \"Input: \",A, length\n",
    "    print \"Output: \",''.join(B)\n",
    "    \n",
    "urlify(\"Mr John S    \")\n"
   ]
  },
  {
   "cell_type": "markdown",
   "metadata": {},
   "source": [
    "### Palindrome Permutation"
   ]
  },
  {
   "cell_type": "code",
   "execution_count": null,
   "metadata": {
    "collapsed": true
   },
   "outputs": [],
   "source": []
  }
 ],
 "metadata": {
  "kernelspec": {
   "display_name": "Python 2",
   "language": "python",
   "name": "python2"
  },
  "language_info": {
   "codemirror_mode": {
    "name": "ipython",
    "version": 2
   },
   "file_extension": ".py",
   "mimetype": "text/x-python",
   "name": "python",
   "nbconvert_exporter": "python",
   "pygments_lexer": "ipython2",
   "version": "2.7.13"
  }
 },
 "nbformat": 4,
 "nbformat_minor": 2
}
